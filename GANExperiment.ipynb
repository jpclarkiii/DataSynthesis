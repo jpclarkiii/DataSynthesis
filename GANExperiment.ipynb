{
 "cells": [
  {
   "cell_type": "code",
   "execution_count": 10,
   "id": "5128df08",
   "metadata": {},
   "outputs": [
    {
     "data": {
      "image/png": "[encoded data removed]",
      "text/plain": [
       "<Figure size 432x288 with 1 Axes>"
      ]
     },
     "metadata": {
      "needs_background": "light"
     },
     "output_type": "display_data"
    }
   ],
   "source": [
    "import numpy as np \n",
    "import matplotlib.pyplot as plt\n",
    "\n",
    "def _get_random_variation(rstart, rend):\n",
    "    var = rstart + (rend-rstart)*np.random.random(1)\n",
    "    return var\n",
    "def eval_fun(x):\n",
    "    y_points = curve_slope*x + curve_height  + wave_size*np.sin((x-wave_start)/curve_waviness) + \\\n",
    "       (wave_size/1.5)*np.sin((x-(wave_start))/(curve_waviness/2)) + \\\n",
    "       (wave_size/1.5)*np.sin((x-(wave_start))/(curve_waviness/4))\n",
    "\n",
    "    norm = (1/(sig*np.sqrt(2*np.pi)))*np.exp((-1*(x-mu)**2)/(2*sig**2))\n",
    "    y_points = curve_slope*x + curve_height + y_points + norm * scale_fact * direction\n",
    "    return y_points\n",
    "\n",
    "curve_slope = _get_random_variation(-0.004, -0.001)\n",
    "curve_height = 30\n",
    "wave_size = 2\n",
    "wave_start = _get_random_variation(0, 10000)\n",
    "curve_waviness = _get_random_variation(500, 1400)\n",
    "sig = _get_random_variation(300, 1200)\n",
    "mu = _get_random_variation(-2500, 2500)\n",
    "scale_fact = 100*sig\n",
    "direction = np.random.choice([-1,1])\n",
    "\n",
    "x = np.linspace(-4000, 4000, 20000)\n",
    "real_y = eval_fun(x)\n",
    "\n",
    "fig = plt.figure()\n",
    "ax = fig.add_subplot(111)\n",
    "ax.set_xlim([-4000,4000])\n",
    "ax.set_yticks(np.arange(0,200,10))\n",
    "ax.set_ylim([0,200])\n",
    "\n",
    "ax.plot(x,real_y)\n",
    "\n",
    "plt.show()\n",
    "\n",
    "\n",
    "\n"
   ]
  },
  {
   "cell_type": "code",
   "execution_count": 12,
   "id": "5e4d2f94",
   "metadata": {},
   "outputs": [
    {
     "data": {
      "image/png": "[encoded data removed]",
      "text/plain": [
       "<Figure size 432x288 with 1 Axes>"
      ]
     },
     "metadata": {
      "needs_background": "light"
     },
     "output_type": "display_data"
    }
   ],
   "source": [
    "\n",
    "def generative(x_vals):\n",
    "    y_vals = np.zeros(len(x_vals))\n",
    "    for i, x_val in enumerate(x_vals):\n",
    "        y_val = np.random.random(1)*200\n",
    "        real_y_val = eval_fun(x_val)\n",
    "        while np.abs(y_val - real_y_val) <= 0.5:\n",
    "            y_val = np.random.random(1)*200\n",
    "        y_vals[i] = y_val\n",
    "        \n",
    "    return y_vals\n",
    "\n",
    "fake_y = generative(x)\n",
    "\n",
    "fig = plt.figure()\n",
    "ax = fig.add_subplot(111)\n",
    "ax.set_xlim([-4000,4000])\n",
    "ax.set_yticks(np.arange(0,200,10))\n",
    "ax.set_ylim([0,200])\n",
    "\n",
    "ax.scatter(x,fake_y)\n",
    "\n",
    "plt.show()\n"
   ]
  },
  {
   "cell_type": "code",
   "execution_count": 13,
   "id": "1bde48a9",
   "metadata": {},
   "outputs": [
    {
     "data": {
      "text/plain": [
       "(20000, 20000, 20000)"
      ]
     },
     "execution_count": 13,
     "metadata": {},
     "output_type": "execute_result"
    }
   ],
   "source": [
    "len(fake_y), len(real_y), len(x)"
   ]
  },
  {
   "cell_type": "code",
   "execution_count": 14,
   "id": "731d0ca5",
   "metadata": {},
   "outputs": [
    {
     "name": "stdout",
     "output_type": "stream",
     "text": [
      "Accuracy: 0.7808333333333334\n",
      "Precision: 0.6958578637510513\n",
      "Recall: 1.0\n",
      "F1: 0.8206558799826421\n"
     ]
    }
   ],
   "source": [
    "from sklearn import svm\n",
    "from sklearn.model_selection import train_test_split\n",
    "from sklearn import metrics\n",
    "\n",
    "# def discriminate(y_label):\n",
    "X = np.zeros((len(real_y)+len(fake_y),2)) #[[0, 0], [1, 1]]\n",
    "\n",
    "X[0:len(real_y),0] = x\n",
    "X[0:len(real_y),1] = real_y\n",
    "\n",
    "X[len(real_y):,0] = x\n",
    "X[len(real_y):,1] = fake_y\n",
    "\n",
    "y = np.zeros(len(real_y)+len(fake_y))\n",
    "y[0:len(real_y)] = 1.0\n",
    "y[len(real_y):] = 0.0\n",
    "\n",
    "X_train, X_test, y_train, y_test = train_test_split(X, y, test_size=0.33, random_state=42)\n",
    "\n",
    "clf = svm.SVC()\n",
    "clf.fit(X_train, y_train)\n",
    "y_pred = clf.predict(X_test)\n",
    "\n",
    "print(\"Accuracy:\", metrics.accuracy_score(y_test, y_pred))\n",
    "print(\"Precision:\", metrics.precision_score(y_test, y_pred))\n",
    "print(\"Recall:\", metrics.recall_score(y_test, y_pred))\n",
    "print(\"F1:\", metrics.f1_score(y_test, y_pred))\n",
    "\n",
    "    "
   ]
  },
  {
   "cell_type": "code",
   "execution_count": null,
   "id": "d823c074",
   "metadata": {},
   "outputs": [],
   "source": []
  }
 ],
 "metadata": {
  "kernelspec": {
   "display_name": "Python 3 (ipykernel)",
   "language": "python",
   "name": "python3"
  },
  "language_info": {
   "codemirror_mode": {
    "name": "ipython",
    "version": 3
   },
   "file_extension": ".py",
   "mimetype": "text/x-python",
   "name": "python",
   "nbconvert_exporter": "python",
   "pygments_lexer": "ipython3",
   "version": "3.7.5"
  }
 },
 "nbformat": 4,
 "nbformat_minor": 5
}
